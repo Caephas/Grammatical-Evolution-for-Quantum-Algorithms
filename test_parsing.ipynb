{
 "cells": [
  {
   "cell_type": "code",
   "execution_count": 1,
   "metadata": {},
   "outputs": [],
   "source": [
    "import black\n",
    "import re\n",
    "from qiskit import QuantumCircuit, transpile\n",
    "from qiskit.circuit.library import UGate\n",
    "from qiskit_aer import QasmSimulator\n",
    "from qiskit.visualization import plot_histogram\n",
    "from IPython.display import display\n",
    "import numpy as np\n"
   ]
  },
  {
   "cell_type": "code",
   "execution_count": null,
   "metadata": {},
   "outputs": [
    {
     "ename": "InvalidInput",
     "evalue": "Cannot parse: 2:3: \" \"qc.h(0)",
     "output_type": "error",
     "traceback": [
      "\u001b[0;31m---------------------------------------------------------------------------\u001b[0m",
      "\u001b[0;31mInvalidInput\u001b[0m                              Traceback (most recent call last)",
      "Cell \u001b[0;32mIn[5], line 3\u001b[0m\n\u001b[1;32m      1\u001b[0m \u001b[38;5;66;03m# Example generated circuit code\u001b[39;00m\n\u001b[1;32m      2\u001b[0m generated_code \u001b[38;5;241m=\u001b[39m (\u001b[38;5;124m'\u001b[39m\u001b[38;5;124mqc = QuantumCircuit(3, 3)\u001b[39m\u001b[38;5;130;01m\\n\u001b[39;00m\u001b[38;5;124m\"\u001b[39m\u001b[38;5;124m \u001b[39m\u001b[38;5;124m\"\u001b[39m\u001b[38;5;124mqc.h(0)\u001b[39m\u001b[38;5;130;01m\\n\u001b[39;00m\u001b[38;5;124m\"\u001b[39m\u001b[38;5;124m \u001b[39m\u001b[38;5;124m\"\u001b[39m\u001b[38;5;124mqc.h(1)\u001b[39m\u001b[38;5;130;01m\\n\u001b[39;00m\u001b[38;5;124m\"\u001b[39m\u001b[38;5;124m \u001b[39m\u001b[38;5;124m\"\u001b[39m\u001b[38;5;124mqc.h(2)\u001b[39m\u001b[38;5;130;01m\\n\u001b[39;00m\u001b[38;5;124m\"\u001b[39m\u001b[38;5;124m \u001b[39m\u001b[38;5;124m\"\u001b[39m\u001b[38;5;124m## Begin Oracle\u001b[39m\u001b[38;5;130;01m\\n\u001b[39;00m\u001b[38;5;124m\"\u001b[39m\u001b[38;5;124m \u001b[39m\u001b[38;5;124m\"\u001b[39m\u001b[38;5;124mqc.cswap(\u001b[39m\u001b[38;5;124m\"\u001b[39m\u001b[38;5;124m \u001b[39m\u001b[38;5;124m\"\u001b[39m\u001b[38;5;124m1,0,2\u001b[39m\u001b[38;5;124m\"\u001b[39m\u001b[38;5;124m \u001b[39m\u001b[38;5;124m\"\u001b[39m\u001b[38;5;124m)\u001b[39m\u001b[38;5;130;01m\\n\u001b[39;00m\u001b[38;5;124m\"\u001b[39m\u001b[38;5;124m \u001b[39m\u001b[38;5;124m\"\u001b[39m\u001b[38;5;124m## End Oracle\u001b[39m\u001b[38;5;130;01m\\n\u001b[39;00m\u001b[38;5;124m\"\u001b[39m\u001b[38;5;124m \u001b[39m\u001b[38;5;124m\"\u001b[39m\u001b[38;5;124m## Begin Diffuser\u001b[39m\u001b[38;5;130;01m\\n\u001b[39;00m\u001b[38;5;124m\"\u001b[39m\u001b[38;5;124m \u001b[39m\u001b[38;5;124m\"\u001b[39m\u001b[38;5;124mqc.t(\u001b[39m\u001b[38;5;124m\"\u001b[39m\u001b[38;5;124m \u001b[39m\u001b[38;5;124m\"\u001b[39m\u001b[38;5;124m0\u001b[39m\u001b[38;5;124m\"\u001b[39m\u001b[38;5;124m \u001b[39m\u001b[38;5;124m\"\u001b[39m\u001b[38;5;124m)\u001b[39m\u001b[38;5;130;01m\\n\u001b[39;00m\u001b[38;5;124m\"\u001b[39m\u001b[38;5;124m \u001b[39m\u001b[38;5;124m\"\u001b[39m\u001b[38;5;124mqc.x(0)\u001b[39m\u001b[38;5;130;01m\\n\u001b[39;00m\u001b[38;5;124m\"\u001b[39m\u001b[38;5;124m \u001b[39m\u001b[38;5;124m\"\u001b[39m\u001b[38;5;124m## End Diffuser\u001b[39m\u001b[38;5;130;01m\\n\u001b[39;00m\u001b[38;5;124m\"\u001b[39m\u001b[38;5;124m \u001b[39m\u001b[38;5;124m\"\u001b[39m\u001b[38;5;124mqc.measure(0, 0)\u001b[39m\u001b[38;5;130;01m\\n\u001b[39;00m\u001b[38;5;124m\"\u001b[39m\u001b[38;5;124m \u001b[39m\u001b[38;5;124m\"\u001b[39m\u001b[38;5;124mqc.measure(1, 1)\u001b[39m\u001b[38;5;130;01m\\n\u001b[39;00m\u001b[38;5;124m\"\u001b[39m\u001b[38;5;124m \u001b[39m\u001b[38;5;124m\"\u001b[39m\u001b[38;5;124mqc.measure(2, 2)\u001b[39m\u001b[38;5;130;01m\\n\u001b[39;00m\u001b[38;5;124m\"\u001b[39m\u001b[38;5;124m'\u001b[39m)\n\u001b[0;32m----> 3\u001b[0m cleaned_code \u001b[38;5;241m=\u001b[39m \u001b[43mblack\u001b[49m\u001b[38;5;241;43m.\u001b[39;49m\u001b[43mformat_str\u001b[49m\u001b[43m(\u001b[49m\u001b[43mgenerated_code\u001b[49m\u001b[43m,\u001b[49m\u001b[43m \u001b[49m\u001b[43mmode\u001b[49m\u001b[38;5;241;43m=\u001b[39;49m\u001b[43mblack\u001b[49m\u001b[38;5;241;43m.\u001b[39;49m\u001b[43mMode\u001b[49m\u001b[43m(\u001b[49m\u001b[43m)\u001b[49m\u001b[43m)\u001b[49m\n\u001b[1;32m      4\u001b[0m \u001b[38;5;28mprint\u001b[39m(\u001b[38;5;124m\"\u001b[39m\u001b[38;5;124m=== Final Code String (Black-Formatted) ===\u001b[39m\u001b[38;5;130;01m\\n\u001b[39;00m\u001b[38;5;124m\"\u001b[39m)\n\u001b[1;32m      5\u001b[0m \u001b[38;5;28mprint\u001b[39m(cleaned_code)\n",
      "File \u001b[0;32msrc/black/__init__.py:1208\u001b[0m, in \u001b[0;36mformat_str\u001b[0;34m()\u001b[0m\n",
      "File \u001b[0;32msrc/black/__init__.py:1222\u001b[0m, in \u001b[0;36m_format_str_once\u001b[0;34m()\u001b[0m\n",
      "File \u001b[0;32msrc/black/parsing.py:98\u001b[0m, in \u001b[0;36mlib2to3_parse\u001b[0;34m()\u001b[0m\n",
      "\u001b[0;31mInvalidInput\u001b[0m: Cannot parse: 2:3: \" \"qc.h(0)"
     ]
    }
   ],
   "source": [
    "# Example generated circuit code\n",
    "generated_code = ('\"qc = QuantumCircuit(3, 3)\\n\" \"qc.h(0)\\n\" \"qc.h(1)\\n\" \"qc.h(2)\\n\" \"## Begin Oracle\\n\" \"qc.cswap(\" \"1,0,2\" \")\\n\" \"## End Oracle\\n\" \"## Begin Diffuser\\n\" \"qc.t(\" \"0\" \")\\n\" \"qc.x(0)\\n\" \"## End Diffuser\\n\" \"qc.measure(0, 0)\\n\" \"qc.measure(1, 1)\\n\" \"qc.measure(2, 2)\\n\"')\n",
    "cleaned_code = black.format_str(generated_code, mode=black.Mode())\n",
    "print(\"=== Final Code String (Black-Formatted) ===\\n\")\n",
    "print(cleaned_code)\n"
   ]
  },
  {
   "cell_type": "code",
   "execution_count": null,
   "metadata": {},
   "outputs": [],
   "source": [
    "# Define a minimal set of globals so the generated code can use QuantumCircuit\n",
    "allowed_globals = {\n",
    "    \"QuantumCircuit\": QuantumCircuit,\n",
    "}\n",
    "# Prepare a local dictionary where the code will run\n",
    "local_dict = {}\n",
    "\n",
    "# Execute the code string\n",
    "exec(cleaned_code, allowed_globals, local_dict)\n",
    "\n",
    "# Retrieve the 'qc' object from the local dictionary\n",
    "qc_test = local_dict.get(\"qc\", None)\n",
    "\n",
    "if qc_test is None:\n",
    "    print(\"\\n[Decode Error] 'qc' was not created by the generated code.\")\n",
    "else:\n",
    "    print(\"\\nCircuit successfully created:\")\n",
    "    display(qc_test.draw(\"mpl\"))\n"
   ]
  },
  {
   "cell_type": "code",
   "execution_count": null,
   "metadata": {},
   "outputs": [],
   "source": [
    "if qc_test:\n",
    "    simulator = QasmSimulator()\n",
    "    compiled_circuit = transpile(qc_test, simulator)\n",
    "    result = simulator.run(compiled_circuit, shots=1024).result()\n",
    "    counts = result.get_counts()\n",
    "    print(\"\\nCounts:\", counts)\n",
    "    display(plot_histogram(counts, title=\"Measurement Results\"))"
   ]
  },
  {
   "cell_type": "code",
   "execution_count": null,
   "metadata": {},
   "outputs": [],
   "source": [
    "qc = QuantumCircuit(3, 2)  # 3 qubits, 2 classical bits for measurement\n",
    "\n",
    "# Apply Hadamard gates\n",
    "qc.h([0, 1, 2])\n",
    "\n",
    "# Define M1 unitary transformations\n",
    "qc.append(UGate(1.234, 0, 0), [2])\n",
    "qc.cx(1, 2)\n",
    "qc.cx(0, 1)\n",
    "\n",
    "# Function f operation (assuming a controlled operation)\n",
    "qc.cx(0, 2)\n",
    "\n",
    "# Apply Hadamard gates after function evaluation\n",
    "qc.h([0, 1, 2])\n",
    "\n",
    "# Define M2 unitary transformations\n",
    "qc.h(1)\n",
    "qc.append(UGate(3.1929, 0, 0), [1])\n",
    "\n",
    "# Measurement\n",
    "qc.measure(0, 0)\n",
    "qc.measure(2, 1)\n",
    "\n",
    "# Draw the circuit\n",
    "qc.draw('mpl')\n"
   ]
  }
 ],
 "metadata": {
  "kernelspec": {
   "display_name": ".venv",
   "language": "python",
   "name": "python3"
  },
  "language_info": {
   "codemirror_mode": {
    "name": "ipython",
    "version": 3
   },
   "file_extension": ".py",
   "mimetype": "text/x-python",
   "name": "python",
   "nbconvert_exporter": "python",
   "pygments_lexer": "ipython3",
   "version": "3.10.16"
  }
 },
 "nbformat": 4,
 "nbformat_minor": 2
}
